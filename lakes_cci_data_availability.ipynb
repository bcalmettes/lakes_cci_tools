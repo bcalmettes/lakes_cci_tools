{
 "cells": [
  {
   "cell_type": "markdown",
   "id": "a4c2972e",
   "metadata": {},
   "source": [
    "# Description \n",
    "\n",
    "Product availabilty per lake\n",
    "\n",
    "This script allows to show the availbility of key varaibles for a given lake during a selected period of time in the lakes_cci dataset. This script is useful for checking whether data on a target lake is available for further downloading.\n",
    "\n",
    "\n",
    "INPUT:\n",
    "    <ul>\n",
    "    <li>The identifier of the lake. The id of the lake is indicated \n",
    "      in the csv file containing lake metadata. This file is available \n",
    "      at the project website https://climate.esa.int/documents/2607/lakescci_v2.1.0_metadata.csv</li>\n",
    "    <li>Land mask: the netCDF file containing the mask of the lakes in CCI datase (no changes in the                         landmask between v2.0.1 and v2.1) is available at:\n",
    "        https://dap.ceda.ac.uk/neodc/esacci/lakes/data/lake_products/L3S/v2.0.1/ESA_CCI_static_lake_mask_v2.0.1.nc</li>\n",
    "    <li>first/last date</li>\n",
    "    <li>name of the png file to save the figure with data availabily </li>\n",
    "    </ul>\n",
    "\n",
    "Reference: Carrea, L.; Crétaux, J.-F.; Liu, X.; Wu, Y.; Bergé-Nguyen, M.; Calmettes, B.; Duguay, C.; Jiang, D.; Merchant, C.J.; Mueller, D.; Selmes, N.; Simis, S.; Spyrakos, E.; Stelzer, K.; Warren, M.; Yesou, H.; Zhang, D. (2022): ESA Lakes Climate Change Initiative (Lakes_cci): Lake products, Version 2.0.1. NERC EDS Centre for Environmental Data Analysis, date of citation.\n",
    "\n",
    "http://dx.doi.org/10.5285/a07deacaffb8453e93d57ee214676304\n",
    "\n",
    "If you find a bug, have a question or a suggestion, don't hesitate to contact us, it will be much appreciated : cci_lakes.contact@groupcls.com"
   ]
  },
  {
   "cell_type": "code",
   "execution_count": 29,
   "id": "271fa298",
   "metadata": {},
   "outputs": [],
   "source": [
    "import os\n",
    "import numpy as np\n",
    "import xarray as xr \n",
    "import datetime\n",
    "import pandas as pd\n",
    "import matplotlib.pyplot as plt\n",
    "%matplotlib widget\n",
    "%matplotlib inline"
   ]
  },
  {
   "cell_type": "markdown",
   "id": "bfb563ed",
   "metadata": {},
   "source": [
    "# Step 1: Define input parameters. \n",
    "\n",
    "In this exemple, we analyse data over Lake Naivasha (Kenya).\n",
    "\n",
    "The identifier (1659) was obtained from  the csv file (https://climate.esa.int/documents/2607/lakescci_v2.1.0_metadata.csv) available in the project website: (https://climate.esa.int/fr/projects/lakes/) \n",
    "\n",
    "The script execution time may be very lon depending on the time period defined. The reason for this is thal \n",
    "all the files in the period must be read in order to check the availability of the multiple variables in each \n",
    "file.\n",
    "  \n",
    "In our case, we are looking for data from 2012-01-01 to 2012-03-31"
   ]
  },
  {
   "cell_type": "code",
   "execution_count": 187,
   "id": "2eca5a28",
   "metadata": {},
   "outputs": [],
   "source": [
    "###########################################################################################\n",
    "# input parameters\n",
    "###########################################################################################   \n",
    "\n",
    "# lakes mask file \n",
    "maskfile = 'ESA_CCI_static_lake_mask_v2.0.1.nc'\n",
    "\n",
    "# Id for lake Naivasha\n",
    "lake_id = 1659\n",
    "\n",
    "# defining the period of time in string format: YYYY-MM-DD\n",
    "# dates values must be between 1992-09-26 and 2020-12-31\n",
    "mindate = '2012-01-01'\n",
    "maxdate = '2012-03-31'\n",
    "\n",
    "# version dataset (2.0.2 is the version published in July 2022)\n",
    "version = '2.0.2'\n",
    "\n",
    "# output\n",
    "pngfile = f'output/Naivisha_coverage_{mindate}_{maxdate}.png'"
   ]
  },
  {
   "cell_type": "code",
   "execution_count": 188,
   "id": "d9095fe8",
   "metadata": {},
   "outputs": [],
   "source": [
    "# test if dates are in the temporal coverage\n",
    "\n",
    "mindate = datetime.datetime.strptime(mindate, '%Y-%m-%d')\n",
    "maxdate = datetime.datetime.strptime(maxdate, '%Y-%m-%d')\n",
    "mindate = max([mindate, datetime.datetime(1992,9,26)])\n",
    "maxdate = min([maxdate, datetime.datetime(2020,12,31)])"
   ]
  },
  {
   "cell_type": "markdown",
   "id": "0c07ea9e",
   "metadata": {},
   "source": [
    "# Step 2: zone selection\n",
    "\n",
    "In this step, latitude and longitude values inside the lake are obtained from the lake mask file. The boundary values will then be used to read the data in the region covering the lake."
   ]
  },
  {
   "cell_type": "code",
   "execution_count": 189,
   "id": "73c90ec5",
   "metadata": {},
   "outputs": [],
   "source": [
    "\n",
    "###################################################################\n",
    "# create mask base on lake_id\n",
    "###################################################################\n",
    "\n",
    "mask_xr = xr.open_dataset(maskfile)\n",
    "mask = mask_xr['CCI_lakeid'].values\n",
    "mask_ind  = np.where(mask == lake_id)\n",
    "minx = np.min(mask_ind[1][:]) - 1\n",
    "maxx = np.max(mask_ind[1][:]) + 1\n",
    "miny = np.min(mask_ind[0][:]) - 1\n",
    "maxy = np.max(mask_ind[0][:]) + 1\n",
    "\n",
    "mask_lake = mask[miny:maxy+1, minx:maxx+1]\n",
    "mask_lake[mask_lake!=lake_id] = 0\n",
    "mask_lake[mask_lake == lake_id] = 1\n",
    "\n",
    "lat = mask_xr['lat'][miny:maxy+1].values\n",
    "lon = mask_xr['lon'][minx:maxx+1].values\n"
   ]
  },
  {
   "cell_type": "markdown",
   "id": "c9a176e6",
   "metadata": {},
   "source": [
    "A good validation test is to check that the lake ID is correct by visualising the lake mask.\n"
   ]
  },
  {
   "cell_type": "code",
   "execution_count": 190,
   "id": "789db3d2",
   "metadata": {},
   "outputs": [
    {
     "data": {
      "image/png": "[encoded data removed]",
      "text/plain": [
       "<Figure size 342x288 with 1 Axes>"
      ]
     },
     "metadata": {
      "needs_background": "light"
     },
     "output_type": "display_data"
    }
   ],
   "source": [
    "# plot lake mask \n",
    "plt.matshow(mask_lake, extent=[np.min(lon), np.max(lon), np.min(lat), np.max(lat)])\n",
    "plt.show()\n"
   ]
  },
  {
   "cell_type": "markdown",
   "id": "3f144007",
   "metadata": {},
   "source": [
    "# Step 3: Data availability\n",
    "\n",
    "In this step, each daily file in the defined period is read to get the availabily of the variables. \n",
    "\n",
    "Key variables from the main products in the data lakes_cci dataset (LWL, LWE, LSWT, LIC and LWLR) are analysed.\n",
    "\n",
    "If you are interested in a subset of the variables, you can modified the 'key_variables' list and the script will run faster. \n",
    "\n"
   ]
  },
  {
   "cell_type": "code",
   "execution_count": 191,
   "id": "9f444b35",
   "metadata": {},
   "outputs": [],
   "source": [
    "# list of key variables\n",
    "key_variables = ['water_surface_height_above_reference_datum',\n",
    "                 'lake_surface_water_extent', \n",
    "                 'lake_surface_water_temperature',\n",
    "                 'lake_ice_cover_class',\n",
    "                 'chla_mean', 'turbidity_mean']\n",
    "\n",
    "for xxx in [400, 412, 443, 469, 490, 510, 531, 547, 560, 620, 645, 665, 674, 681, 709, \n",
    "            754, 779, 859, 885, 900, 1020] :\n",
    "    key_variables.append(f'Rw{xxx}')\n",
    " "
   ]
  },
  {
   "cell_type": "code",
   "execution_count": 192,
   "id": "70110727",
   "metadata": {},
   "outputs": [],
   "source": [
    "# a dataframe containing a column per key variable is defined\n",
    "data_availability = pd.DataFrame(columns = ['time'])\n",
    "data_availability['time'] = pd.date_range(mindate, maxdate)\n",
    "data_availability = data_availability.set_index('time')\n",
    "\n",
    "# The data availability process\n",
    "version = 2.1\n"
   ]
  },
  {
   "cell_type": "code",
   "execution_count": 193,
   "id": "446c7371",
   "metadata": {},
   "outputs": [],
   "source": [
    "for varname in key_variables:\n",
    "    varname_availability = []\n",
    "    for data_date in np.arange(mindate.toordinal(), maxdate.toordinal()+1):\n",
    "        \n",
    "        current_date = datetime.datetime.fromordinal(data_date)\n",
    "        date_str = current_date.strftime(\"%Y%m%d\")\n",
    "\n",
    "        path = f'https://data.cci.ceda.ac.uk/thredds/dodsC/esacci/lakes/data/lake_products/L3S/v{version}/merged_product/'\n",
    "        path += f'{current_date.year}/{current_date.month:02}/'\n",
    "        path += f'ESACCI-LAKES-L3S-LK_PRODUCTS-MERGED-{date_str}-fv{version}.0.nc'\n",
    "        path += f'?{varname}'\n",
    "\n",
    "  \n",
    "        dataset = xr.open_dataset(path)\n",
    "        dataset = dataset.isel(lat=slice(miny, maxy+1), lon=slice(minx, maxx+1))\n",
    "        filval = dataset[varname].encoding['_FillValue']\n",
    "\n",
    "        data = dataset[varname][0,:,:].values\n",
    "        data = np.ma.masked_array(data, np.isnan(data))\n",
    "        data.mask[np.isnan(data)] = True\n",
    " \n",
    "        data.mask[np.where(mask_lake)==0] = True\n",
    "        \n",
    "        if data.mask.all():\n",
    "            varname_availability.append(False)\n",
    "        else:\n",
    "            varname_availability.append(True)\n",
    "\n",
    "    data_availability[varname] =  varname_availability"
   ]
  },
  {
   "cell_type": "markdown",
   "id": "76b02768",
   "metadata": {},
   "source": [
    "# Step 4: Visualising data availability\n",
    "\n",
    "In this step, a plot indicating data is available (in green) or unavailable (in gray) is generated.\n",
    "\n",
    "The name of some variables is modified for cosmetic reasons, to avoid very long string affecting plot visualisation \n"
   ]
  },
  {
   "cell_type": "code",
   "execution_count": 194,
   "id": "7b0b79d1",
   "metadata": {},
   "outputs": [],
   "source": [
    "# this change is only for cosmetic reasons, to avoid very long string affecting plot visualisation \n",
    "data_availability = data_availability.rename(columns = {'water_surface_height_above_reference_datum': 'LWL' ,\n",
    "                          'lake_surface_water_extent': 'LWE',\n",
    "                          'lake_surface_water_temperature': 'LSWT',\n",
    "                          'chla_mean': 'CHLA',\n",
    "                          'turbidity_mean' : 'Turbidity',\n",
    "                          'lake_ice_cover_class': 'LIC'})\n",
    "\n"
   ]
  },
  {
   "cell_type": "code",
   "execution_count": 195,
   "id": "b0962fd1",
   "metadata": {},
   "outputs": [
    {
     "data": {
      "image/png": "[encoded data removed]",
      "text/plain": [
       "<Figure size 720x720 with 27 Axes>"
      ]
     },
     "metadata": {
      "needs_background": "light"
     },
     "output_type": "display_data"
    }
   ],
   "source": [
    "pl.close()\n",
    "pl.rcParams ['figure.max_open_warning'] = len(data_availability.columns)\n",
    "fig, axs = pl.subplots(nrows=len(data_availability.columns), ncols = 1, figsize = (10,10), sharex = True)\n",
    "pl.subplots_adjust(hspace=0.5)\n",
    "cmap = pl.set_cmap('Accent_r')\n",
    "\n",
    "str_mindate = mindate.date().strftime('%Y-%m-%d')\n",
    "str_maxdate = maxdate.date().strftime('%Y-%m-%d')\n",
    "pl.suptitle (f'Data availability for lake id: {lake_id} during the period: {str_mindate} - {str_maxdate}')\n",
    "\n",
    "for var, ax in zip(data_availability.columns, axs.ravel()):\n",
    "    pl.axes(ax)\n",
    "    pl.pcolor([list(data_availability[var].values)])\n",
    "    pl.ylabel(var, rotation = 0, labelpad=20, va = 'center')\n",
    "    pl.yticks([])\n",
    "    \n",
    "xt = np.int16(pl.xticks()[0][1:-1])\n",
    "pl.gca().set_xticks(xt)\n",
    "pl.gca().set_xticklabels(data_availability.index.strftime('%Y-%m-%d')[xt])\n",
    "pl.show()\n"
   ]
  },
  {
   "cell_type": "markdown",
   "id": "f09d2fc1",
   "metadata": {},
   "source": [
    "# Step 5: Save figure \n",
    "\n",
    "Save figure to keep data availability information"
   ]
  },
  {
   "cell_type": "code",
   "execution_count": 196,
   "id": "b94aadde",
   "metadata": {},
   "outputs": [
    {
     "data": {
      "text/plain": [
       "<Figure size 432x288 with 0 Axes>"
      ]
     },
     "metadata": {},
     "output_type": "display_data"
    }
   ],
   "source": [
    "pl.savefig(pngfile, bbox_inches = 'tight', dpi=1000)"
   ]
  }
 ],
 "metadata": {
  "kernelspec": {
   "display_name": "Python 3",
   "language": "python",
   "name": "python3"
  },
  "language_info": {
   "codemirror_mode": {
    "name": "ipython",
    "version": 3
   },
   "file_extension": ".py",
   "mimetype": "text/x-python",
   "name": "python",
   "nbconvert_exporter": "python",
   "pygments_lexer": "ipython3",
   "version": "3.9.4"
  }
 },
 "nbformat": 4,
 "nbformat_minor": 5
}
