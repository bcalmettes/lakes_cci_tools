{
 "cells": [
  {
   "cell_type": "markdown",
   "id": "0f363412",
   "metadata": {},
   "source": [
    "# Description \n",
    "\n",
    "This script allows to generate a timeseries of the mean value of a variable for a lake_id for lakes_cci version 2.1.0\n",
    "\n",
    "\n",
    "INPUT:\n",
    "    <ul>\n",
    "    <li>The identifier of the lake. The id of the lake is indicated \n",
    "      in the csv file containing lake metadata. This file is available \n",
    "      at the project website:\n",
    "      https://admin.climate.esa.int/documents/2607/lakescci_v2.1.0_metadata.csv </li>\n",
    "    <li>Name of the variable in the netCDF files</li>\n",
    "    <li>Land mask: the netCDF file containing the mask of the lakes in CCI dataset this file \n",
    "      is part of the dataset and is available at:\n",
    "      https://dap.ceda.ac.uk/neodc/esacci/lakes/data/lake_products/L3S/v2.0.1/ESA_CCI_static_lake_mask_v2.0.1.nc</li>\n",
    "    <li>First/last dates</li>\n",
    "    <li>Version of the dataset to be download (default value 2.1.0)</li>\n",
    "    </ul>\n",
    "\n",
    " Reference: Carrea, L.; Crétaux, J.-F.; Liu, X.; Wu, Y.; Bergé-Nguyen,\n",
    " M.; Calmettes, B.; Duguay, C.; Jiang, D.; Merchant, C.J.; Mueller, D.;\n",
    " Selmes, N.; Simis, S.; Spyrakos, E.; Stelzer, K.; Warren, M.; Yesou,\n",
    " H.; Zhang, D. (2022): ESA Lakes Climate Change Initiative (Lakes_cci):\n",
    " Lake products, Version 2.1.0. NERC EDS Centre for Environmental Data\n",
    " Analysis, date of citation.\n",
    " https://dx.doi.org/10.5285/7fc9df8070d34cacab8092e45ef276f1\n",
    " \n",
    "    \n",
    " WARNING: This script is a beta version. All controls on the input parameters\n",
    " are not (yet) available. If you find a bug, have a question or a\n",
    " suggestion, don't hesitate to contact us, it will be much appreciated :\n",
    " cci_lakes.contact@groupcls.com\n",
    "\n",
    " to be executed with python version >= 3.9"
   ]
  },
  {
   "cell_type": "markdown",
   "id": "6f9a10d1",
   "metadata": {},
   "source": [
    "# key variables\n",
    "\n",
    "Lakes_cci dataset is a merged product containing multiple variables from different thematic ECVs. The key variables are as follow:\n",
    "\n",
    "<b>Lake Water Level (LWL):</b>\n",
    "<ul><li>water_surface_height_above_reference_datum</li></ul>\n",
    "\n",
    "<b>Lake Water Extent (LWE):</b>\n",
    "<ul><li>lake_surface_water_extent</li></ul>\n",
    "\n",
    "<b>Lake Ice Cover (LIC):</b>\n",
    "<ul><li>lake_ice_cover_class</li></ul>\n",
    "\n",
    "\n",
    "<b>Lake Water Extent (LWE):</b>\n",
    "<ul><li>lake_surface_water_temperature</li></ul>\n",
    "\n",
    "\n",
    "<b>Lake Water Leaving Reflectance (LWLR):</b>\n",
    "<ul><li>chla_mean</li>\n",
    "<li>turbidity_mean</li>\n",
    "<li>Rwxxx with xxx: 400, 412, 443, 469, 490, 510, 531, 547, 560, 620, 645, 665, 674, 681, 709, 754, 779, 859, Rw885, 900, 1020</li></ul>\n"
   ]
  },
  {
   "cell_type": "code",
   "execution_count": 3,
   "id": "73840e38",
   "metadata": {},
   "outputs": [],
   "source": [
    "import numpy as np\n",
    "import xarray as xr\n",
    "import pandas as pd\n",
    "import datetime\n",
    "import matplotlib.pyplot as plt\n",
    "%matplotlib widget\n",
    "%matplotlib inline\n"
   ]
  },
  {
   "cell_type": "code",
   "execution_count": 4,
   "id": "de058c2e",
   "metadata": {},
   "outputs": [],
   "source": [
    "###########################################################################################\n",
    "# input parameters\n",
    "###########################################################################################   \n",
    "\n",
    "# lakes mask file \n",
    "maskfile = 'ESA_CCI_static_lake_mask_v2.1.nc'\n",
    "\n",
    "# Id for lake Turkana: 22\n",
    "lake_id = 22\n",
    "\n",
    "# variable name\n",
    "varname = 'lake_surface_water_extent'\n",
    "\n",
    "# defining the period of time in string format: YYYY-MM-DD\n",
    "# dates values must be between 1992-09-26 and 2020-12-31\n",
    "\n",
    "mindate = '2021-07-01'\n",
    "maxdate = '2021-07-31'"
   ]
  },
  {
   "cell_type": "code",
   "execution_count": 5,
   "id": "d9095fe8",
   "metadata": {},
   "outputs": [],
   "source": [
    "# test if dates are in the temporal coverage\n",
    "\n",
    "mindate = datetime.datetime.strptime(mindate, '%Y-%m-%d')\n",
    "maxdate = datetime.datetime.strptime(maxdate, '%Y-%m-%d')\n",
    "mindate = max([mindate, datetime.datetime(1992,9,26)])\n",
    "maxdate = min([maxdate, datetime.datetime(2022,12,31)])\n"
   ]
  },
  {
   "cell_type": "code",
   "execution_count": 6,
   "id": "73c90ec5",
   "metadata": {},
   "outputs": [],
   "source": [
    "\n",
    "###################################################################\n",
    "# create mask based on lake_id\n",
    "###################################################################\n",
    "\n",
    "mask_xr = xr.open_dataset(maskfile)\n",
    "mask = mask_xr['CCI_lakeid'].values\n",
    "mask_ind  = np.where(mask == lake_id)\n",
    "minx = np.min(mask_ind[1][:]) - 1\n",
    "maxx = np.max(mask_ind[1][:]) + 1\n",
    "miny = np.min(mask_ind[0][:]) - 1\n",
    "maxy = np.max(mask_ind[0][:]) + 1\n",
    "\n",
    "mask_lake = mask[miny:maxy+1, minx:maxx+1]\n",
    "mask_lake[mask_lake!=lake_id] = 0\n",
    "mask_lake[mask_lake == lake_id] = 1\n"
   ]
  },
  {
   "cell_type": "markdown",
   "id": "7a123cad",
   "metadata": {},
   "source": [
    "Download process: this can take longtime depending on the selected dates. Each daily file needs to be access to verify if there is (or not) data available for the selected lake."
   ]
  },
  {
   "cell_type": "code",
   "execution_count": 7,
   "id": "3d118720",
   "metadata": {},
   "outputs": [],
   "source": [
    "date_vec = []\n",
    "data_vec = []\n",
    "version = 2.1\n",
    "\n",
    "for data_date in np.arange(mindate.toordinal(), maxdate.toordinal()+1):\n",
    "    current_date = datetime.datetime.fromordinal(data_date)\n",
    "    date_str = current_date.strftime(\"%Y%m%d\")\n",
    "    \n",
    "    #print (f'Downloading data from lake_id {lake_id} -  ESACCI-LAKES-L3S-LK_PRODUCTS-MERGED-{date_str}-fv{version}.0.nc')\n",
    "   \n",
    "    path = f'https://data.cci.ceda.ac.uk/thredds/dodsC/esacci/lakes/data/lake_products/L3S/v{version}/merged_product/'\n",
    "    path += f'{current_date.year}/{current_date.month:02}/'\n",
    "    path += f'ESACCI-LAKES-L3S-LK_PRODUCTS-MERGED-{date_str}-fv{version}.0.nc?{lake_surface_water_extentvarname}'\n",
    "  \n",
    "\n",
    "    dataset = xr.open_dataset(path)\n",
    "    dataset = dataset.isel(lat=slice(miny, maxy+1), lon=slice(minx, maxx+1))\n",
    "    units  = dataset[varname].units\n",
    "    filval = dataset[varname].encoding['_FillValue']\n",
    "    data = dataset[varname][0,:,:].values\n",
    "    \n",
    "    data[mask_lake == 0] = np.nan\n",
    "    \n",
    "    # only keep dates with no NaN values\n",
    "    if np.isnan(data).all() :\n",
    "        continue\n",
    "\n",
    "    date_vec.append(date_str)\n",
    "    data_vec.append(np.nanmean(data))\n",
    "    "
   ]
  },
  {
   "cell_type": "markdown",
   "id": "eb57a83d",
   "metadata": {},
   "source": [
    "Generate a dataframe with date and data vectors"
   ]
  },
  {
   "cell_type": "code",
   "execution_count": 8,
   "id": "18ce5044",
   "metadata": {},
   "outputs": [],
   "source": [
    "df = pd.DataFrame({'date': date_vec, f'{varname}': data_vec})\n",
    "df['date'] = pd.to_datetime(df['date'], format = '%Y%m%d')"
   ]
  },
  {
   "cell_type": "markdown",
   "id": "d60e1cfc",
   "metadata": {},
   "source": [
    "Visualisation of the timeseries during the selected period"
   ]
  },
  {
   "cell_type": "code",
   "execution_count": 9,
   "id": "05bdbd07",
   "metadata": {},
   "outputs": [
    {
     "data": {
      "image/png": "[encoded data removed]",
      "text/plain": [
       "<Figure size 432x288 with 1 Axes>"
      ]
     },
     "metadata": {
      "needs_background": "light"
     },
     "output_type": "display_data"
    }
   ],
   "source": [
    "if units == '1' :\n",
    "    units = 'no units'\n",
    "plt.plot(df['date'], df[varname], marker='o')\n",
    "plt.title(f'Lake id: {lake_id}')\n",
    "plt.ylabel(f'{varname} ({units})')\n",
    "plt.xticks(rotation=90)\n",
    "plt.show()"
   ]
  },
  {
   "cell_type": "markdown",
   "id": "f300db19",
   "metadata": {},
   "source": [
    "Save time series data in a csv file"
   ]
  },
  {
   "cell_type": "code",
   "execution_count": 41,
   "id": "50405d33",
   "metadata": {},
   "outputs": [],
   "source": [
    "df[varname] = np.round(df[varname], 3)\n",
    "df.to_csv('Turkana_lwe.csv', index = False)"
   ]
  }
 ],
 "metadata": {
  "kernelspec": {
   "display_name": "Python 3",
   "language": "python",
   "name": "python3"
  },
  "language_info": {
   "codemirror_mode": {
    "name": "ipython",
    "version": 3
   },
   "file_extension": ".py",
   "mimetype": "text/x-python",
   "name": "python",
   "nbconvert_exporter": "python",
   "pygments_lexer": "ipython3",
   "version": "3.9.4"
  }
 },
 "nbformat": 4,
 "nbformat_minor": 5
}
