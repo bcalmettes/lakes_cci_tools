{
 "cells": [
  {
   "cell_type": "raw",
   "id": "dce1d926",
   "metadata": {},
   "source": [
    "This script allows to download remote sensing data from the CCI\n",
    "database according to user defined period and extent of the region. \n",
    "\n",
    "INPUT:\n",
    "    - latitude/longitud min and max values\n",
    "    - first/last date\n",
    "    - version of the dataset to be download (default value 2.0.1)\n",
    "    - ouptput dir to storage the extracted data\n",
    "    - prefix (optional): to be added at the output files\n",
    "\n",
    " Reference: Carrea, L.; Crétaux, J.-F.; Liu, X.; Wu, Y.; Bergé-Nguyen,\n",
    " M.; Calmettes, B.; Duguay, C.; Jiang, D.; Merchant, C.J.; Mueller, D.;\n",
    " Selmes, N.; Simis, S.; Spyrakos, E.; Stelzer, K.; Warren, M.; Yesou,\n",
    " H.; Zhang, D. (2022): ESA Lakes Climate Change Initiative (Lakes_cci):\n",
    " Lake products, Version 2.0.1. NERC EDS Centre for Environmental Data\n",
    " Analysis, date of citation.\n",
    " \n",
    " http://dx.doi.org/10.5285/a07deacaffb8453e93d57ee214676304\n",
    "\n",
    " Acknowledgements: thanks to Sebastiano Piccolroaz who has made available\n",
    " a script to extract data from the first version of the dataset\n",
    " (https://github.com/spiccolroaz/CCI_extractor) and inspired this one\n",
    "\n",
    " WARNING: This is a beta version. All controls on the input parameters\n",
    " are not (yet) available. If you find a bug, have a question or a\n",
    " suggestion, don't hesitate to contact us, it will be much appreciated :\n",
    " cci_lakes.contact@groupcls.com\n",
    "\n",
    " to be executed with python version >= 3.9"
   ]
  },
  {
   "cell_type": "code",
   "execution_count": 2,
   "id": "575827be",
   "metadata": {},
   "outputs": [],
   "source": [
    "import os\n",
    "import numpy as np\n",
    "import xarray as xr\n",
    "import datetime"
   ]
  },
  {
   "cell_type": "code",
   "execution_count": 8,
   "id": "10dcd3c8",
   "metadata": {},
   "outputs": [],
   "source": [
    "###########################################################################################\n",
    "# input parameters\n",
    "###########################################################################################\n",
    "\n",
    "# defining the zone\n",
    "# latitude values must be between -90 and 90\n",
    "# longitud values must be between -180 and 180\n",
    "minlat = 60.\n",
    "maxlat = 60.5\n",
    "minlon = -116\n",
    "maxlon = -114.8\n",
    "\n",
    "# defining the period of time in string format: YYYY-MM-DD\n",
    "# dates values must be between 1992-09-26 and 2020-12-31\n",
    "mindate = '2019-08-01'\n",
    "maxdate = '2019-08-02'\n",
    "\n",
    "# version dataset (2.0.2 is the version published in July 2022)\n",
    "version = '2.0.2'\n",
    "\n",
    "# output\n",
    "outdir = 'output/Buffalo'\n",
    "outprefix = 'Buffalo_'"
   ]
  },
  {
   "cell_type": "code",
   "execution_count": 9,
   "id": "8292ba03",
   "metadata": {},
   "outputs": [],
   "source": [
    "# test if dates are in the temporal coverage\n",
    "\n",
    "mindate = datetime.datetime.strptime(mindate, '%Y-%m-%d')\n",
    "maxdate = datetime.datetime.strptime(maxdate, '%Y-%m-%d')\n",
    "mindate = max([mindate, datetime.datetime(1992,9,26)])\n",
    "maxdate = min([maxdate, datetime.datetime(2020,12,31)])"
   ]
  },
  {
   "cell_type": "code",
   "execution_count": 10,
   "id": "2d52613d",
   "metadata": {},
   "outputs": [],
   "source": [
    "# create the output directory if it does not exist\n",
    "if os.path.exists(outdir)==False:\n",
    "    os.makedirs(outdir)"
   ]
  },
  {
   "cell_type": "code",
   "execution_count": 12,
   "id": "1d838f0a",
   "metadata": {},
   "outputs": [],
   "source": [
    "# The download process\n",
    "\n",
    "for data_date in np.arange(mindate.toordinal(), maxdate.toordinal()+1):\n",
    "    current_date = datetime.datetime.fromordinal(data_date)\n",
    "    date_str = current_date.strftime(\"%Y%m%d\")\n",
    "    print (f'Downloading data from ESACCI-LAKES-L3S-LK_PRODUCTS-MERGED-{date_str}-fv{version}.nc')\n",
    "\n",
    "    path  = f'https://data.cci.ceda.ac.uk/thredds/dodsC/esacci/lakes/data/lake_products/L3S/v{version}/'\n",
    "    path += f'{current_date.year}/{current_date.month:02}/'\n",
    "    path += f'ESACCI-LAKES-L3S-LK_PRODUCTS-MERGED-{date_str}-fv{version}.nc'\n",
    "\n",
    "    dataset = xr.open_dataset(path)\n",
    "    dataset = dataset.sel(lat=slice(minlat, maxlat), lon=slice(minlon, maxlon))\n",
    "\n",
    "    outfile = f'{outdir}/{outprefix}ESACCI-LAKES-L3S-LK_PRODUCTS-MERGED-{date_str}-fv{version}.nc'\n",
    "\n",
    "    dataset.to_netcdf(outfile)\n"
   ]
  }
 ],
 "metadata": {
  "kernelspec": {
   "display_name": "ONG",
   "language": "python",
   "name": "ong"
  },
  "language_info": {
   "codemirror_mode": {
    "name": "ipython",
    "version": 3
   },
   "file_extension": ".py",
   "mimetype": "text/x-python",
   "name": "python",
   "nbconvert_exporter": "python",
   "pygments_lexer": "ipython3",
   "version": "3.9.9"
  }
 },
 "nbformat": 4,
 "nbformat_minor": 5
}
