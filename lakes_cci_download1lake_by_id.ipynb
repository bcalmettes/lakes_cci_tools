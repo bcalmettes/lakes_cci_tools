{
 "cells": [
  {
   "cell_type": "markdown",
   "id": "63fb6d53",
   "metadata": {},
   "source": [
    "# description \n",
    "\n",
    "This script allows to download remote sensing data from the CCI\n",
    "dataset for a single lake according to user defined period.\n",
    "\n",
    "\n",
    "INPUT:\n",
    "    - The identifier of the lake. The id of the lake is indicated \n",
    "      in the csv file containing lake metadata. This file is available \n",
    "      at the project website:\n",
    "      https://climate.esa.int/documents/1857/lakescci_v2.0.2_data-availability_gQHtOE6.csv\n",
    "      # land mask: the netCDF file containing the mask of the lakes\n",
    "    - mask file containing the mask of the lakes in CCI dataset this file \n",
    "      is part of the dataset and is available at:\n",
    "      https://dap.ceda.ac.uk/neodc/esacci/lakes/data/lake_products/L3S/v2.0.1/ESA_CCI_static_lake_mask_v2.0.1.nc\n",
    "    - first/last date\n",
    "    - version of the dataset to be download (default value 2.0.1)\n",
    "    - ouptput dir to storage the extracted data\n",
    "    - prefix (optional): to be added at the output files\n",
    "\n",
    " Reference: Carrea, L.; Crétaux, J.-F.; Liu, X.; Wu, Y.; Bergé-Nguyen,\n",
    " M.; Calmettes, B.; Duguay, C.; Jiang, D.; Merchant, C.J.; Mueller, D.;\n",
    " Selmes, N.; Simis, S.; Spyrakos, E.; Stelzer, K.; Warren, M.; Yesou,\n",
    " H.; Zhang, D. (2022): ESA Lakes Climate Change Initiative (Lakes_cci):\n",
    " Lake products, Version 2.0.1. NERC EDS Centre for Environmental Data\n",
    " Analysis, date of citation.\n",
    " \n",
    " http://dx.doi.org/10.5285/a07deacaffb8453e93d57ee214676304\n",
    "\n",
    " WARNING: This is a beta version. All controls on the input parameters\n",
    " are not (yet) available. If you find a bug, have a question or a\n",
    " suggestion, don't hesitate to contact us, it will be much appreciated :\n",
    " cci_lakes.contact@groupcls.com\n",
    "\n",
    " to be executed with python version >= 3.9"
   ]
  },
  {
   "cell_type": "code",
   "execution_count": 9,
   "id": "73840e38",
   "metadata": {},
   "outputs": [],
   "source": [
    "import os\n",
    "import numpy as np\n",
    "import xarray as xr\n",
    "import datetime\n",
    "import netCDF4 as nc"
   ]
  },
  {
   "cell_type": "code",
   "execution_count": 15,
   "id": "de058c2e",
   "metadata": {},
   "outputs": [],
   "source": [
    "###########################################################################################\n",
    "# input parameters\n",
    "###########################################################################################   \n",
    "\n",
    "# lakes mask file \n",
    "maskfile = 'ESA_CCI_static_lake_mask_v2.0.2.nc'\n",
    "\n",
    "# Id for lake Erie: 12\n",
    "lake_id = 12\n",
    "\n",
    "# defining the period of time in string format: YYYY-MM-DD\n",
    "# dates values must be between 1992-09-26 and 2020-12-31\n",
    "mindate = '2019-01-01'\n",
    "maxdate = '2019-01-02'\n",
    "\n",
    "# version dataset (2.0.2 is the version published in July 2022)\n",
    "version = '2.0.2'\n",
    "\n",
    "# output\n",
    "outdir = 'output/Erie'\n",
    "outprefix = 'Erie_'"
   ]
  },
  {
   "cell_type": "code",
   "execution_count": 11,
   "id": "d9095fe8",
   "metadata": {},
   "outputs": [],
   "source": [
    "# test if dates are in the temporal coverage\n",
    "\n",
    "mindate = datetime.datetime.strptime(mindate, '%Y-%m-%d')\n",
    "maxdate = datetime.datetime.strptime(maxdate, '%Y-%m-%d')\n",
    "mindate = max([mindate, datetime.datetime(1992,9,26)])\n",
    "maxdate = min([maxdate, datetime.datetime(2020,12,31)])"
   ]
  },
  {
   "cell_type": "code",
   "execution_count": 12,
   "id": "e4e57984",
   "metadata": {},
   "outputs": [],
   "source": [
    "# create the output directory if it does not exist\n",
    "if os.path.exists(outdir)==False:\n",
    "    os.makedirs(outdir)"
   ]
  },
  {
   "cell_type": "code",
   "execution_count": 13,
   "id": "73c90ec5",
   "metadata": {},
   "outputs": [],
   "source": [
    "\n",
    "###################################################################\n",
    "# create mask base on lake_id\n",
    "###################################################################\n",
    "\n",
    "mask_nc = nc.Dataset(maskfile)\n",
    "\n",
    "mask_ind  = np.where(mask_nc.variables['CCI_lakeid'][:] == lake_id)\n",
    "minx = np.min(mask_ind[1][:]) - 1\n",
    "maxx = np.max(mask_ind[1][:]) + 1\n",
    "\n",
    "miny = np.min(mask_ind[0][:]) - 1\n",
    "maxy = np.max(mask_ind[0][:]) + 1\n",
    "\n",
    "mask_lake = mask_nc.variables['CCI_lakeid'][miny:maxy+1, minx:maxx+1].data\n",
    "mask_lake[mask_lake!=lake_id] = 0\n",
    "mask_lake[mask_lake == lake_id] = 1\n",
    "\n",
    "mask_nc.close()"
   ]
  },
  {
   "cell_type": "code",
   "execution_count": null,
   "id": "446c7371",
   "metadata": {},
   "outputs": [],
   "source": [
    "# The download process\n",
    "\n",
    "for data_date in np.arange(mindate.toordinal(), maxdate.toordinal()+1):\n",
    "    current_date = datetime.datetime.fromordinal(data_date)\n",
    "    date_str = current_date.strftime(\"%Y%m%d\")\n",
    "    #print (f'Downloading data from lake_id {lake_id} -  ESACCI-LAKES-L3S-LK_PRODUCTS-MERGED-{date_str}-fv{version}.nc')\n",
    "\n",
    "    path  = f'https://data.cci.ceda.ac.uk/thredds/dodsC/esacci/lakes/data/lake_products/L3S/v{version}/'\n",
    "    path += f'{current_date.year}/{current_date.month:02}/'\n",
    "    path += f'ESACCI-LAKES-L3S-LK_PRODUCTS-MERGED-{date_str}-fv{version}.nc'\n",
    "\n",
    "    dataset = xr.open_dataset(path)\n",
    "    dataset = dataset.isel(lat=slice(miny, maxy+1), lon=slice(minx, maxx+1))\n",
    "\n",
    "    # apply mask only for varibles with three dimensions : time, lat, lon\n",
    "    for var in dataset.data_vars:\n",
    "        if len (dataset[var].dims) == 3 :\n",
    "            filval = dataset[var].encoding['_FillValue']\n",
    "            data = dataset[var][0,:,:].values\n",
    "            data[mask_lake == 0] = filval\n",
    "            dataset[var][0,:,:] = data\n",
    "\n",
    "    outfile = f'{outdir}/{outprefix}ESACCI-LAKES-L3S-LK_PRODUCTS-MERGED-{date_str}-fv{version}.nc'\n",
    "\n",
    "    dataset.to_netcdf(outfile)"
   ]
  }
 ],
 "metadata": {
  "kernelspec": {
   "display_name": "Python 3",
   "language": "python",
   "name": "python3"
  },
  "language_info": {
   "codemirror_mode": {
    "name": "ipython",
    "version": 3
   },
   "file_extension": ".py",
   "mimetype": "text/x-python",
   "name": "python",
   "nbconvert_exporter": "python",
   "pygments_lexer": "ipython3",
   "version": "3.9.4"
  }
 },
 "nbformat": 4,
 "nbformat_minor": 5
}
