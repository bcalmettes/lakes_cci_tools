{
 "cells": [
  {
   "cell_type": "markdown",
   "id": "0f363412",
   "metadata": {},
   "source": [
    "# Description \n",
    "\n",
    "This script allows to download a single variable data from the CCI\n",
    "dataset for a single lake according to user defined period. \n",
    "The zone will be defined by de boundaries of the polygon defining the lake. \n",
    "If there are other lakes near the specified one, they will be masked.\n",
    "This script is useful for dowloading data o fa single variable for a single \n",
    "lake. Information about its boundaries is not required.\n",
    "\n",
    "\n",
    "INPUT:\n",
    "    <ul>\n",
    "    <li>The identifier of the lake. The id of the lake is indicated \n",
    "      in the csv file containing lake metadata. This file is available \n",
    "      at the project website:\n",
    "        https://climate.esa.int/documents/2528/lakescci_v2.1_metadata.csv</li>\n",
    "    <li>Name of the variable in the netCDF files</li>\n",
    "    <li>Land mask: the netCDF file containing the mask of the lakes in CCI dataset this file \n",
    "      is part of the dataset and is available at:\n",
    "      https://dap.ceda.ac.uk/neodc/esacci/lakes/data/lake_products/L3S/v2.0.1/ESA_CCI_static_lake_mask_v2.0.1.nc</li>\n",
    "    <li>first/last date</li>\n",
    "    <li>version of the dataset to be download (default value 2.1.0)</li>\n",
    "    <li>ouptput dir to storage the extracted data</li>\n",
    "    <li>prefix (optional): to be added at the output files name</li>\n",
    "    </ul>\n",
    "\n",
    " Reference: Carrea, L.; Crétaux, J.-F.; Liu, X.; Wu, Y.; Bergé-Nguyen,\n",
    " M.; Calmettes, B.; Duguay, C.; Jiang, D.; Merchant, C.J.; Mueller, D.;\n",
    " Selmes, N.; Simis, S.; Spyrakos, E.; Stelzer, K.; Warren, M.; Yesou,\n",
    " H.; Zhang, D. (2022): ESA Lakes Climate Change Initiative (Lakes_cci):\n",
    " Lake products, Version 2.1.0. NERC EDS Centre for Environmental Data\n",
    " Analysis, date of citation.\n",
    " https://dx.doi.org/10.5285/7fc9df8070d34cacab8092e45ef276f1\n",
    " \n",
    "    \n",
    " WARNING: This script is a beta version. All controls on the input parameters\n",
    " are not (yet) available. If you find a bug, have a question or a\n",
    " suggestion, don't hesitate to contact us, it will be much appreciated :\n",
    " cci_lakes.contact@groupcls.com\n",
    "\n",
    " to be executed with python version >= 3.9"
   ]
  },
  {
   "cell_type": "markdown",
   "id": "6f9a10d1",
   "metadata": {},
   "source": [
    "# key variables\n",
    "\n",
    "Lakes_cci dataset is a merged product containing multiple variables from different thematic ECVs. The key variables are as follow:\n",
    "\n",
    "<b>Lake Water Level (LWL):</b>\n",
    "<ul><li>water_surface_height_above_reference_datum</li></ul>\n",
    "\n",
    "<b>Lake Water Extent (LWE):</b>\n",
    "<ul><li>lake_surface_water_extent</li></ul>\n",
    "\n",
    "<b>Lake Ice Cover (LIC):</b>\n",
    "<ul><li>lake_ice_cover_class</li></ul>\n",
    "\n",
    "\n",
    "<b>Lake Water Extent (LWE):</b>\n",
    "<ul><li>lake_surface_water_temperature</li></ul>\n",
    "\n",
    "\n",
    "<b>Lake Water Leaving Reflectance (LWLR):</b>\n",
    "<ul><li>chla_mean</li>\n",
    "<li>turbidity_mean</li>\n",
    "<li>Rwxxx with xxx: 400, 412, 443, 469, 490, 510, 531, 547, 560, 620, 645, 665, 674, 681, 709, 754, 779, 859, Rw885, 900, 1020</li></ul>\n"
   ]
  },
  {
   "cell_type": "code",
   "execution_count": 1,
   "id": "73840e38",
   "metadata": {},
   "outputs": [],
   "source": [
    "import os\n",
    "import numpy as np\n",
    "import xarray as xr\n",
    "import datetime\n",
    "import netCDF4 as nc"
   ]
  },
  {
   "cell_type": "code",
   "execution_count": 99,
   "id": "de058c2e",
   "metadata": {},
   "outputs": [],
   "source": [
    "###########################################################################################\n",
    "# input parameters\n",
    "###########################################################################################   \n",
    "\n",
    "# lakes mask file \n",
    "maskfile = 'ESA_CCI_static_lake_mask_v2.1.nc'\n",
    "\n",
    "# Id for lake Erie: 12\n",
    "lake_id = 12\n",
    "\n",
    "# variable name\n",
    "varname = 'water_surface_height_above_reference_datum'\n",
    "\n",
    "# defining the period of time in string format: YYYY-MM-DD\n",
    "# dates values must be between 1992-09-26 and 2020-12-31\n",
    "mindate = '2022-03-24'\n",
    "maxdate = '2022-04-10'\n",
    "\n",
    "# version dataset (2.1.0 is the version published in April 2024)\n",
    "version = '2.1'\n",
    "\n",
    "# output\n",
    "outdir = 'output/Erie_lwl'\n",
    "outprefix = 'Erie_lwl_'"
   ]
  },
  {
   "cell_type": "code",
   "execution_count": 100,
   "id": "d9095fe8",
   "metadata": {},
   "outputs": [
    {
     "name": "stdout",
     "output_type": "stream",
     "text": [
      "2022-03-24 00:00:00 2022-04-10 00:00:00\n"
     ]
    }
   ],
   "source": [
    "# test if dates are in the temporal coverage\n",
    "\n",
    "mindate = datetime.datetime.strptime(mindate, '%Y-%m-%d')\n",
    "maxdate = datetime.datetime.strptime(maxdate, '%Y-%m-%d')\n",
    "mindate = max([mindate, datetime.datetime(1992,9,26)])\n",
    "maxdate = min([maxdate, datetime.datetime(2022,12,31)])\n"
   ]
  },
  {
   "cell_type": "code",
   "execution_count": 101,
   "id": "e4e57984",
   "metadata": {},
   "outputs": [],
   "source": [
    "# create the output directory if it does not exist\n",
    "if os.path.exists(outdir)==False:\n",
    "    os.makedirs(outdir)"
   ]
  },
  {
   "cell_type": "code",
   "execution_count": null,
   "id": "73c90ec5",
   "metadata": {},
   "outputs": [],
   "source": [
    "\n",
    "###################################################################\n",
    "# create mask based on lake_id\n",
    "###################################################################\n",
    "\n",
    "mask_nc = nc.Dataset(maskfile)\n",
    "\n",
    "mask_ind  = np.where(mask_nc.variables['CCI_lakeid'][:] == lake_id)\n",
    "minx = np.min(mask_ind[1][:]) - 1\n",
    "maxx = np.max(mask_ind[1][:]) + 1\n",
    "\n",
    "\n",
    "miny = np.min(mask_ind[0][:]) - 1\n",
    "maxy = np.max(mask_ind[0][:]) + 1\n",
    "\n",
    "mask_lake = mask_nc.variables['CCI_lakeid'][miny:maxy+1, minx:maxx+1].data\n",
    "mask_lake[mask_lake!=lake_id] = 0\n",
    "mask_lake[mask_lake == lake_id] = 1\n",
    "\n",
    "mask_nc.close()\n"
   ]
  },
  {
   "cell_type": "code",
   "execution_count": null,
   "id": "3d118720",
   "metadata": {},
   "outputs": [],
   "source": [
    "#### The download process\n",
    "\n",
    "print (varname)\n",
    "\n",
    "for data_date in np.arange(mindate.toordinal(), maxdate.toordinal()+1):\n",
    "    current_date = datetime.datetime.fromordinal(data_date)\n",
    "    date_str = current_date.strftime(\"%Y%m%d\")\n",
    "    print (f'Downloading data from lake_id {lake_id} -  ESACCI-LAKES-L3S-LK_PRODUCTS-MERGED-{date_str}-fv{version}.nc')\n",
    "\n",
    "    path  = f'https://data.cci.ceda.ac.uk/thredds/dodsC/esacci/lakes/data/lake_products/L3S/v2.1/merged_product/'\n",
    "    path += f'/{current_date.year}/{current_date.month:02}/'\n",
    "    path += f'ESACCI-LAKES-L3S-LK_PRODUCTS-MERGED-{date_str}-fv2.1.0.nc?{varname}[0:1:0][{miny}:1:{maxy}][{minx}:1:{maxx}]'\n",
    "   \n",
    "    dataset = xr.open_dataset(path)\n",
    "\n",
    "    filval = dataset[varname].encoding['_FillValue']\n",
    "    data = dataset[varname][0,:,:].values\n",
    "    data[mask_lake == 0] = filval\n",
    "    dataset[varname][0,:,:] = data\n",
    "\n",
    "    outfile = f'{outdir}/{outprefix}ESACCI-LAKES-L3S-LK_PRODUCTS-MERGED-{date_str}-fv{version}.nc'\n",
    "\n",
    "    dataset.to_netcdf(outfile)\n",
    "    "
   ]
  }
 ],
 "metadata": {
  "kernelspec": {
   "display_name": "Python 3",
   "language": "python",
   "name": "python3"
  },
  "language_info": {
   "codemirror_mode": {
    "name": "ipython",
    "version": 3
   },
   "file_extension": ".py",
   "mimetype": "text/x-python",
   "name": "python",
   "nbconvert_exporter": "python",
   "pygments_lexer": "ipython3",
   "version": "3.9.4"
  }
 },
 "nbformat": 4,
 "nbformat_minor": 5
}
